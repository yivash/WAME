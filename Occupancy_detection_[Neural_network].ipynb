{
 "cells": [
  {
   "cell_type": "markdown",
   "metadata": {},
   "source": [
    "# 1. Pre-processing \n",
    "At this stage training dataset was:\n",
    "- anaysed;\n",
    "- balanced;\n",
    "- saved as a separate \"csv\" file."
   ]
  },
  {
   "cell_type": "code",
   "execution_count": 1,
   "metadata": {},
   "outputs": [],
   "source": [
    "import pandas as pd\n",
    "filename = 'datatraining.txt'\n",
    "data = pd.read_csv(filename)"
   ]
  },
  {
   "cell_type": "code",
   "execution_count": 2,
   "metadata": {},
   "outputs": [],
   "source": [
    "pd.set_option('display.max_columns', None) #change options to see all columns"
   ]
  },
  {
   "cell_type": "code",
   "execution_count": 3,
   "metadata": {},
   "outputs": [
    {
     "data": {
      "text/html": [
       "<div>\n",
       "<style scoped>\n",
       "    .dataframe tbody tr th:only-of-type {\n",
       "        vertical-align: middle;\n",
       "    }\n",
       "\n",
       "    .dataframe tbody tr th {\n",
       "        vertical-align: top;\n",
       "    }\n",
       "\n",
       "    .dataframe thead th {\n",
       "        text-align: right;\n",
       "    }\n",
       "</style>\n",
       "<table border=\"1\" class=\"dataframe\">\n",
       "  <thead>\n",
       "    <tr style=\"text-align: right;\">\n",
       "      <th></th>\n",
       "      <th>date</th>\n",
       "      <th>Temperature</th>\n",
       "      <th>Humidity</th>\n",
       "      <th>Light</th>\n",
       "      <th>CO2</th>\n",
       "      <th>HumidityRatio</th>\n",
       "      <th>Occupancy</th>\n",
       "    </tr>\n",
       "  </thead>\n",
       "  <tbody>\n",
       "    <tr>\n",
       "      <th>1</th>\n",
       "      <td>2015-02-04 17:51:00</td>\n",
       "      <td>23.18</td>\n",
       "      <td>27.2720</td>\n",
       "      <td>426.0</td>\n",
       "      <td>721.25</td>\n",
       "      <td>0.004793</td>\n",
       "      <td>1</td>\n",
       "    </tr>\n",
       "    <tr>\n",
       "      <th>2</th>\n",
       "      <td>2015-02-04 17:51:59</td>\n",
       "      <td>23.15</td>\n",
       "      <td>27.2675</td>\n",
       "      <td>429.5</td>\n",
       "      <td>714.00</td>\n",
       "      <td>0.004783</td>\n",
       "      <td>1</td>\n",
       "    </tr>\n",
       "    <tr>\n",
       "      <th>3</th>\n",
       "      <td>2015-02-04 17:53:00</td>\n",
       "      <td>23.15</td>\n",
       "      <td>27.2450</td>\n",
       "      <td>426.0</td>\n",
       "      <td>713.50</td>\n",
       "      <td>0.004779</td>\n",
       "      <td>1</td>\n",
       "    </tr>\n",
       "    <tr>\n",
       "      <th>4</th>\n",
       "      <td>2015-02-04 17:54:00</td>\n",
       "      <td>23.15</td>\n",
       "      <td>27.2000</td>\n",
       "      <td>426.0</td>\n",
       "      <td>708.25</td>\n",
       "      <td>0.004772</td>\n",
       "      <td>1</td>\n",
       "    </tr>\n",
       "  </tbody>\n",
       "</table>\n",
       "</div>"
      ],
      "text/plain": [
       "                  date  Temperature  Humidity  Light     CO2  HumidityRatio  \\\n",
       "1  2015-02-04 17:51:00        23.18   27.2720  426.0  721.25       0.004793   \n",
       "2  2015-02-04 17:51:59        23.15   27.2675  429.5  714.00       0.004783   \n",
       "3  2015-02-04 17:53:00        23.15   27.2450  426.0  713.50       0.004779   \n",
       "4  2015-02-04 17:54:00        23.15   27.2000  426.0  708.25       0.004772   \n",
       "\n",
       "   Occupancy  \n",
       "1          1  \n",
       "2          1  \n",
       "3          1  \n",
       "4          1  "
      ]
     },
     "execution_count": 3,
     "metadata": {},
     "output_type": "execute_result"
    }
   ],
   "source": [
    "data.head(4)"
   ]
  },
  {
   "cell_type": "code",
   "execution_count": 4,
   "metadata": {},
   "outputs": [
    {
     "data": {
      "text/html": [
       "<div>\n",
       "<style scoped>\n",
       "    .dataframe tbody tr th:only-of-type {\n",
       "        vertical-align: middle;\n",
       "    }\n",
       "\n",
       "    .dataframe tbody tr th {\n",
       "        vertical-align: top;\n",
       "    }\n",
       "\n",
       "    .dataframe thead th {\n",
       "        text-align: right;\n",
       "    }\n",
       "</style>\n",
       "<table border=\"1\" class=\"dataframe\">\n",
       "  <thead>\n",
       "    <tr style=\"text-align: right;\">\n",
       "      <th></th>\n",
       "      <th>Temperature</th>\n",
       "      <th>Humidity</th>\n",
       "      <th>Light</th>\n",
       "      <th>CO2</th>\n",
       "      <th>HumidityRatio</th>\n",
       "      <th>Occupancy</th>\n",
       "    </tr>\n",
       "  </thead>\n",
       "  <tbody>\n",
       "    <tr>\n",
       "      <th>count</th>\n",
       "      <td>8143.000000</td>\n",
       "      <td>8143.000000</td>\n",
       "      <td>8143.000000</td>\n",
       "      <td>8143.000000</td>\n",
       "      <td>8143.000000</td>\n",
       "      <td>8143.000000</td>\n",
       "    </tr>\n",
       "    <tr>\n",
       "      <th>mean</th>\n",
       "      <td>20.619084</td>\n",
       "      <td>25.731507</td>\n",
       "      <td>119.519375</td>\n",
       "      <td>606.546243</td>\n",
       "      <td>0.003863</td>\n",
       "      <td>0.212330</td>\n",
       "    </tr>\n",
       "    <tr>\n",
       "      <th>std</th>\n",
       "      <td>1.016916</td>\n",
       "      <td>5.531211</td>\n",
       "      <td>194.755805</td>\n",
       "      <td>314.320877</td>\n",
       "      <td>0.000852</td>\n",
       "      <td>0.408982</td>\n",
       "    </tr>\n",
       "    <tr>\n",
       "      <th>min</th>\n",
       "      <td>19.000000</td>\n",
       "      <td>16.745000</td>\n",
       "      <td>0.000000</td>\n",
       "      <td>412.750000</td>\n",
       "      <td>0.002674</td>\n",
       "      <td>0.000000</td>\n",
       "    </tr>\n",
       "    <tr>\n",
       "      <th>25%</th>\n",
       "      <td>19.700000</td>\n",
       "      <td>20.200000</td>\n",
       "      <td>0.000000</td>\n",
       "      <td>439.000000</td>\n",
       "      <td>0.003078</td>\n",
       "      <td>0.000000</td>\n",
       "    </tr>\n",
       "    <tr>\n",
       "      <th>50%</th>\n",
       "      <td>20.390000</td>\n",
       "      <td>26.222500</td>\n",
       "      <td>0.000000</td>\n",
       "      <td>453.500000</td>\n",
       "      <td>0.003801</td>\n",
       "      <td>0.000000</td>\n",
       "    </tr>\n",
       "    <tr>\n",
       "      <th>75%</th>\n",
       "      <td>21.390000</td>\n",
       "      <td>30.533333</td>\n",
       "      <td>256.375000</td>\n",
       "      <td>638.833333</td>\n",
       "      <td>0.004352</td>\n",
       "      <td>0.000000</td>\n",
       "    </tr>\n",
       "    <tr>\n",
       "      <th>max</th>\n",
       "      <td>23.180000</td>\n",
       "      <td>39.117500</td>\n",
       "      <td>1546.333333</td>\n",
       "      <td>2028.500000</td>\n",
       "      <td>0.006476</td>\n",
       "      <td>1.000000</td>\n",
       "    </tr>\n",
       "  </tbody>\n",
       "</table>\n",
       "</div>"
      ],
      "text/plain": [
       "       Temperature     Humidity        Light          CO2  HumidityRatio  \\\n",
       "count  8143.000000  8143.000000  8143.000000  8143.000000    8143.000000   \n",
       "mean     20.619084    25.731507   119.519375   606.546243       0.003863   \n",
       "std       1.016916     5.531211   194.755805   314.320877       0.000852   \n",
       "min      19.000000    16.745000     0.000000   412.750000       0.002674   \n",
       "25%      19.700000    20.200000     0.000000   439.000000       0.003078   \n",
       "50%      20.390000    26.222500     0.000000   453.500000       0.003801   \n",
       "75%      21.390000    30.533333   256.375000   638.833333       0.004352   \n",
       "max      23.180000    39.117500  1546.333333  2028.500000       0.006476   \n",
       "\n",
       "         Occupancy  \n",
       "count  8143.000000  \n",
       "mean      0.212330  \n",
       "std       0.408982  \n",
       "min       0.000000  \n",
       "25%       0.000000  \n",
       "50%       0.000000  \n",
       "75%       0.000000  \n",
       "max       1.000000  "
      ]
     },
     "execution_count": 4,
     "metadata": {},
     "output_type": "execute_result"
    }
   ],
   "source": [
    "data.describe()"
   ]
  },
  {
   "cell_type": "code",
   "execution_count": 5,
   "metadata": {},
   "outputs": [
    {
     "data": {
      "text/plain": [
       "0    6414\n",
       "1    1729\n",
       "Name: Occupancy, dtype: int64"
      ]
     },
     "execution_count": 5,
     "metadata": {},
     "output_type": "execute_result"
    }
   ],
   "source": [
    "data['Occupancy'].value_counts()   # check if the dataset is balanced, counting items"
   ]
  },
  {
   "cell_type": "code",
   "execution_count": 6,
   "metadata": {},
   "outputs": [],
   "source": [
    "#Get indices for class 0\n",
    "Index_label_0 = data[data['Occupancy']==0].index.tolist() \n",
    "Index_label_1 = data[data['Occupancy']==1].index.tolist() "
   ]
  },
  {
   "cell_type": "code",
   "execution_count": 7,
   "metadata": {},
   "outputs": [],
   "source": [
    "#Considering python indices start with 0 I need to subtract 1 from all values obtained in previous step\n",
    "Index_0=[x-1 for x in Index_label_0]\n",
    "Index_1=[x-1 for x in Index_label_1]"
   ]
  },
  {
   "cell_type": "code",
   "execution_count": 8,
   "metadata": {},
   "outputs": [],
   "source": [
    "import random\n",
    "\n",
    "random.seed(2)\n",
    "sample0=random.sample(Index_0,1729) # Sample 1729 items for class 0 (to be equal to class 1)"
   ]
  },
  {
   "cell_type": "code",
   "execution_count": 9,
   "metadata": {},
   "outputs": [],
   "source": [
    "balanced_data=data.iloc[sample0+Index_1] "
   ]
  },
  {
   "cell_type": "code",
   "execution_count": 10,
   "metadata": {},
   "outputs": [
    {
     "data": {
      "text/plain": [
       "1    1729\n",
       "0    1729\n",
       "Name: Occupancy, dtype: int64"
      ]
     },
     "execution_count": 10,
     "metadata": {},
     "output_type": "execute_result"
    }
   ],
   "source": [
    "balanced_data['Occupancy'].value_counts()   # check if the dataset is balanced, counting items"
   ]
  },
  {
   "cell_type": "code",
   "execution_count": 11,
   "metadata": {},
   "outputs": [],
   "source": [
    "#Converto pandas dataframe to csv\n",
    "balanced_data.to_csv(\"balanced_train.csv\", encoding='utf-8', index=False)"
   ]
  },
  {
   "cell_type": "markdown",
   "metadata": {},
   "source": [
    "# 2. Feature selection\n",
    "Here newly created training dataset was read and feature selection performed."
   ]
  },
  {
   "cell_type": "code",
   "execution_count": 1,
   "metadata": {},
   "outputs": [
    {
     "data": {
      "text/html": [
       "<div>\n",
       "<style scoped>\n",
       "    .dataframe tbody tr th:only-of-type {\n",
       "        vertical-align: middle;\n",
       "    }\n",
       "\n",
       "    .dataframe tbody tr th {\n",
       "        vertical-align: top;\n",
       "    }\n",
       "\n",
       "    .dataframe thead th {\n",
       "        text-align: right;\n",
       "    }\n",
       "</style>\n",
       "<table border=\"1\" class=\"dataframe\">\n",
       "  <thead>\n",
       "    <tr style=\"text-align: right;\">\n",
       "      <th></th>\n",
       "      <th>date</th>\n",
       "      <th>Temperature</th>\n",
       "      <th>Humidity</th>\n",
       "      <th>Light</th>\n",
       "      <th>CO2</th>\n",
       "      <th>HumidityRatio</th>\n",
       "      <th>Occupancy</th>\n",
       "    </tr>\n",
       "  </thead>\n",
       "  <tbody>\n",
       "    <tr>\n",
       "      <th>0</th>\n",
       "      <td>2015-02-05 01:50:00</td>\n",
       "      <td>21.20</td>\n",
       "      <td>25.100</td>\n",
       "      <td>0.0</td>\n",
       "      <td>447.5</td>\n",
       "      <td>0.003905</td>\n",
       "      <td>0</td>\n",
       "    </tr>\n",
       "    <tr>\n",
       "      <th>1</th>\n",
       "      <td>2015-02-05 06:36:59</td>\n",
       "      <td>20.89</td>\n",
       "      <td>23.000</td>\n",
       "      <td>0.0</td>\n",
       "      <td>449.0</td>\n",
       "      <td>0.003508</td>\n",
       "      <td>0</td>\n",
       "    </tr>\n",
       "    <tr>\n",
       "      <th>2</th>\n",
       "      <td>2015-02-05 05:42:00</td>\n",
       "      <td>20.89</td>\n",
       "      <td>23.500</td>\n",
       "      <td>0.0</td>\n",
       "      <td>442.5</td>\n",
       "      <td>0.003585</td>\n",
       "      <td>0</td>\n",
       "    </tr>\n",
       "    <tr>\n",
       "      <th>3</th>\n",
       "      <td>2015-02-07 14:09:00</td>\n",
       "      <td>22.60</td>\n",
       "      <td>17.175</td>\n",
       "      <td>142.5</td>\n",
       "      <td>443.0</td>\n",
       "      <td>0.002905</td>\n",
       "      <td>0</td>\n",
       "    </tr>\n",
       "    <tr>\n",
       "      <th>4</th>\n",
       "      <td>2015-02-06 02:10:59</td>\n",
       "      <td>20.55</td>\n",
       "      <td>19.600</td>\n",
       "      <td>0.0</td>\n",
       "      <td>433.0</td>\n",
       "      <td>0.002925</td>\n",
       "      <td>0</td>\n",
       "    </tr>\n",
       "  </tbody>\n",
       "</table>\n",
       "</div>"
      ],
      "text/plain": [
       "                  date  Temperature  Humidity  Light    CO2  HumidityRatio  \\\n",
       "0  2015-02-05 01:50:00        21.20    25.100    0.0  447.5       0.003905   \n",
       "1  2015-02-05 06:36:59        20.89    23.000    0.0  449.0       0.003508   \n",
       "2  2015-02-05 05:42:00        20.89    23.500    0.0  442.5       0.003585   \n",
       "3  2015-02-07 14:09:00        22.60    17.175  142.5  443.0       0.002905   \n",
       "4  2015-02-06 02:10:59        20.55    19.600    0.0  433.0       0.002925   \n",
       "\n",
       "   Occupancy  \n",
       "0          0  \n",
       "1          0  \n",
       "2          0  \n",
       "3          0  \n",
       "4          0  "
      ]
     },
     "execution_count": 1,
     "metadata": {},
     "output_type": "execute_result"
    }
   ],
   "source": [
    "import pandas as pd\n",
    "import numpy as np\n",
    "\n",
    "filename1 = 'balanced_train.csv'\n",
    "data1 = pd.read_csv(filename1)\n",
    "data1.head()"
   ]
  },
  {
   "cell_type": "code",
   "execution_count": 2,
   "metadata": {},
   "outputs": [],
   "source": [
    "data_without_date=data1[data1.columns[1:]]"
   ]
  },
  {
   "cell_type": "code",
   "execution_count": 4,
   "metadata": {},
   "outputs": [
    {
     "data": {
      "image/png": "[encoded data removed]",
      "text/plain": [
       "<Figure size 504x504 with 2 Axes>"
      ]
     },
     "metadata": {
      "needs_background": "light"
     },
     "output_type": "display_data"
    }
   ],
   "source": [
    "import numpy as np\n",
    "from matplotlib import pyplot\n",
    "from matplotlib import cm\n",
    "\n",
    "correlations = data_without_date.corr()\n",
    "# plot correlation matrix\n",
    "fig = pyplot.figure(figsize=(7, 7))\n",
    "ax = fig.add_subplot(111)\n",
    "cax = ax.matshow(correlations, cmap='RdYlGn', vmin=-1, vmax=1) \n",
    "fig.colorbar(cax)\n",
    "ticks = np.arange(0,len(data_without_date.columns),1)\n",
    "ax.set_xticks(ticks)\n",
    "ax.set_yticks(ticks)\n",
    "ax.set_xticklabels(data_without_date.columns,rotation='vertical')\n",
    "ax.set_yticklabels(data_without_date.columns)\n",
    "pyplot.show()"
   ]
  },
  {
   "cell_type": "code",
   "execution_count": 5,
   "metadata": {},
   "outputs": [],
   "source": [
    "import sys\n",
    "from os.path import dirname\n",
    "sys.path.append('...Local/Programs/Python/Python38-32/Lib/site-packages')"
   ]
  },
  {
   "cell_type": "code",
   "execution_count": 6,
   "metadata": {},
   "outputs": [],
   "source": [
    "# Distinguish attribute columns and class column.\n",
    "X_train=data1[data1.columns[1:-1]]\n",
    "y_train=data1['Occupancy']"
   ]
  },
  {
   "cell_type": "code",
   "execution_count": 7,
   "metadata": {},
   "outputs": [
    {
     "name": "stdout",
     "output_type": "stream",
     "text": [
      "(3458, 5)\n",
      "(3458,)\n"
     ]
    }
   ],
   "source": [
    "print(np.shape(X_train))\n",
    "print(np.shape(y_train))"
   ]
  },
  {
   "cell_type": "code",
   "execution_count": 8,
   "metadata": {},
   "outputs": [],
   "source": [
    "#Read test dataset\n",
    "filename2 = 'datatest.txt'\n",
    "data2 = pd.read_csv(filename2)"
   ]
  },
  {
   "cell_type": "code",
   "execution_count": 9,
   "metadata": {},
   "outputs": [
    {
     "data": {
      "text/plain": [
       "0    1693\n",
       "1     972\n",
       "Name: Occupancy, dtype: int64"
      ]
     },
     "execution_count": 9,
     "metadata": {},
     "output_type": "execute_result"
    }
   ],
   "source": [
    "data2['Occupancy'].value_counts() #Test data is unbalanced   "
   ]
  },
  {
   "cell_type": "code",
   "execution_count": 10,
   "metadata": {},
   "outputs": [],
   "source": [
    "X_test=data2[data2.columns[1:-1]]\n",
    "y_test=data2['Occupancy']"
   ]
  },
  {
   "cell_type": "code",
   "execution_count": 11,
   "metadata": {},
   "outputs": [],
   "source": [
    "#Feature selection\n",
    "from sklearn.feature_selection import SelectKBest\n",
    "from sklearn.feature_selection import chi2\n",
    "\n",
    "def best_features(scores,N):\n",
    "    scores_desc=scores.sort_values(na_position='first')[::-1]\n",
    "    features=[]\n",
    "    for i in range(N):\n",
    "        features.append(scores_desc.index[i])\n",
    "    return features #algorithm sort all features in descending order from most to least important"
   ]
  },
  {
   "cell_type": "code",
   "execution_count": 12,
   "metadata": {},
   "outputs": [
    {
     "name": "stdout",
     "output_type": "stream",
     "text": [
      "features_filter [2, 3, 1, 0]\n"
     ]
    }
   ],
   "source": [
    "from numpy import set_printoptions\n",
    "\n",
    "#Univariate FS - Filter method.\n",
    "filter_fs = SelectKBest(score_func=chi2, k=4) \n",
    "fit1 = filter_fs.fit(X_train, y_train)\n",
    "# summarize scores\n",
    "set_printoptions(precision=4)\n",
    "scores1=pd.Series(fit1.scores_)\n",
    "\n",
    "features_filter=best_features(scores1,4)\n",
    "print('features_filter',features_filter)"
   ]
  },
  {
   "cell_type": "code",
   "execution_count": 13,
   "metadata": {},
   "outputs": [
    {
     "data": {
      "text/plain": [
       "Index(['Light', 'CO2', 'Humidity', 'Temperature'], dtype='object')"
      ]
     },
     "execution_count": 13,
     "metadata": {},
     "output_type": "execute_result"
    }
   ],
   "source": [
    "X_train.columns[features_filter]"
   ]
  },
  {
   "cell_type": "code",
   "execution_count": 14,
   "metadata": {},
   "outputs": [],
   "source": [
    "#Make reduced dataset according to selected features\n",
    "X_train_new=X_train.iloc[:,[0,1,2,3]]\n",
    "X_test_new=X_test.iloc[:,[0,1,2,3]]"
   ]
  },
  {
   "cell_type": "markdown",
   "metadata": {},
   "source": [
    "# 3. WAME optimization algorithm"
   ]
  },
  {
   "cell_type": "code",
   "execution_count": 15,
   "metadata": {},
   "outputs": [
    {
     "name": "stderr",
     "output_type": "stream",
     "text": [
      "Using TensorFlow backend.\n"
     ]
    }
   ],
   "source": [
    "#WAME optimization algorithm for weight updates \n",
    "from keras.optimizers import Optimizer # import baseline optimizer\n",
    "from keras import backend as K\n",
    "from tensorflow import set_random_seed\n",
    "\n",
    "class WAME(Optimizer):\n",
    "    set_random_seed(2)\n",
    "    def __init__(self, lr=0.001, epsilon=1e-8, eta_plus = 1.2, eta_minus = 0.1,\n",
    "                 eta_min=0.01, eta_max=100, decay = 0.9,\n",
    "                 **kwargs):\n",
    "        super(WAME, self).__init__(**kwargs)\n",
    "        self.__dict__.update(locals())\n",
    "        self.iterations = K.variable(0)\n",
    "        self.lr = K.variable(lr)\n",
    "        self.decay = K.variable(decay)\n",
    "        self.eta_plus = K.variable(eta_plus)\n",
    "        self.eta_minus = K.variable(eta_minus)\n",
    "        self.eta_min = eta_min\n",
    "        self.eta_max = eta_max\n",
    "\n",
    "    def get_updates(self, params, loss):\n",
    "        grads = self.get_gradients(loss, params)\n",
    "        self.updates = [K.update_add(self.iterations, 1)]\n",
    "        \n",
    "        lr = self.lr\n",
    "        \n",
    "        #Lines 26-31 below are tensor initialisation\n",
    "        shapes = [K.get_variable_shape(p) for p in params]\n",
    "        prev_grads = [K.zeros(shape) for shape in shapes]\n",
    "        prev_param = [K.zeros(shape) for shape in shapes]\n",
    "        tetas = [K.zeros(shape) for shape in shapes]\n",
    "        accels = [K.ones(shape) for shape in shapes]\n",
    "        zetas = [K.ones(shape) for shape in shapes]\n",
    "\n",
    "        for p, g, teta, a, z, pg, pp in zip(params, grads, tetas, accels,\n",
    "                zetas, prev_grads, prev_param): # Line 3 in algorithm (see report)\n",
    "\n",
    "            change = pg * g\n",
    "            change_below_zero = K.less(change,0.)\n",
    "            change_above_zero = K.greater(change,0.)\n",
    "            \n",
    "            #Lines 43-48 here are implementation of the equations 4-7 in algorithm (see report)\n",
    "            a_new = K.switch(\n",
    "                change_below_zero,\n",
    "                a * self.eta_minus,\n",
    "                K.switch(change_above_zero, a * self.eta_plus, a)\n",
    "            )\n",
    "            a_clipped = K.clip(a_new, self.eta_min, self.eta_max) \n",
    "            \n",
    "            z_new = (self.decay * z) + (1. - self.decay) * a_clipped #Equation 9 in algorithm (see report)\n",
    "            teta_new = (self.decay * teta) + (1. - self.decay) * K.square(g) #Equation 10 in algorithm (see report)\n",
    "            new_p = p - lr * g / (K.sqrt(z_new*teta_new) + self.epsilon) #Equation 11 and 12 in algorithm (see report)  \n",
    "\n",
    "            self.updates.append(K.update(teta, teta_new))\n",
    "            self.updates.append(K.update(p, new_p)) \n",
    "            self.updates.append(K.update(pg, p))\n",
    "            self.updates.append(K.update(a, a_new))\n",
    "            self.updates.append(K.update(z, z_new))\n",
    "        return self.updates\n",
    "\n",
    "    def get_config(self):\n",
    "        config = {'lr': float(K.get_value(self.lr)),\n",
    "                  'beta_a': float(K.get_value(self.beta_a)),\n",
    "                  'eta_plus': float(K.get_value(self.eta_plus)),\n",
    "                  'eta_minus': float(K.get_value(self.eta_minus)),\n",
    "                  'eta_min': float(self.eta_min),\n",
    "                  'eta_max': float(self.eta_max),\n",
    "                  'epsilon': self.epsilon}\n",
    "        base_config = super(WAME, self).get_config()\n",
    "        return dict(list(base_config.items()) + list(config.items()))"
   ]
  },
  {
   "cell_type": "markdown",
   "metadata": {},
   "source": [
    "# 4. Building neural network model "
   ]
  },
  {
   "cell_type": "code",
   "execution_count": 16,
   "metadata": {},
   "outputs": [],
   "source": [
    "#Libraries to build ANN model\n",
    "import warnings\n",
    "warnings.simplefilter(action='ignore', category=FutureWarning)\n",
    "from keras.models import Sequential\n",
    "from keras.layers import Dense, Dropout\n",
    "np.random.seed(7)"
   ]
  },
  {
   "cell_type": "code",
   "execution_count": 17,
   "metadata": {},
   "outputs": [
    {
     "name": "stdout",
     "output_type": "stream",
     "text": [
      "2\n"
     ]
    }
   ],
   "source": [
    "from keras.utils import to_categorical \n",
    "\n",
    "y_train = to_categorical(y_train)\n",
    "y_test = to_categorical(y_test)\n",
    "\n",
    "count_classes = y_test.shape[1]\n",
    "print(count_classes)"
   ]
  },
  {
   "cell_type": "code",
   "execution_count": 18,
   "metadata": {},
   "outputs": [
    {
     "name": "stdout",
     "output_type": "stream",
     "text": [
      "WARNING:tensorflow:From C:\\Users\\Stasya\\Anaconda3\\lib\\site-packages\\keras\\backend\\tensorflow_backend.py:74: The name tf.get_default_graph is deprecated. Please use tf.compat.v1.get_default_graph instead.\n",
      "\n",
      "WARNING:tensorflow:From C:\\Users\\Stasya\\Anaconda3\\lib\\site-packages\\keras\\backend\\tensorflow_backend.py:517: The name tf.placeholder is deprecated. Please use tf.compat.v1.placeholder instead.\n",
      "\n",
      "WARNING:tensorflow:From C:\\Users\\Stasya\\Anaconda3\\lib\\site-packages\\keras\\backend\\tensorflow_backend.py:4138: The name tf.random_uniform is deprecated. Please use tf.random.uniform instead.\n",
      "\n",
      "WARNING:tensorflow:From C:\\Users\\Stasya\\Anaconda3\\lib\\site-packages\\keras\\optimizers.py:790: The name tf.train.Optimizer is deprecated. Please use tf.compat.v1.train.Optimizer instead.\n",
      "\n",
      "WARNING:tensorflow:From C:\\Users\\Stasya\\Anaconda3\\lib\\site-packages\\keras\\backend\\tensorflow_backend.py:3295: The name tf.log is deprecated. Please use tf.math.log instead.\n",
      "\n"
     ]
    }
   ],
   "source": [
    "#Build model without dropout\n",
    "model = Sequential()\n",
    "model.add(Dense(10, activation='relu', input_dim=4))\n",
    "model.add(Dense(20, activation='relu'))\n",
    "model.add(Dense(2, activation='softmax'))\n",
    "\n",
    "# Compile the model\n",
    "model.compile(optimizer=WAME(), \n",
    "              loss='categorical_crossentropy', \n",
    "              metrics=['accuracy'])"
   ]
  },
  {
   "cell_type": "code",
   "execution_count": 19,
   "metadata": {},
   "outputs": [
    {
     "name": "stdout",
     "output_type": "stream",
     "text": [
      "WARNING:tensorflow:From C:\\Users\\Stasya\\Anaconda3\\lib\\site-packages\\tensorflow\\python\\ops\\math_grad.py:1250: add_dispatch_support.<locals>.wrapper (from tensorflow.python.ops.array_ops) is deprecated and will be removed in a future version.\n",
      "Instructions for updating:\n",
      "Use tf.where in 2.0, which has the same broadcast rule as np.where\n",
      "WARNING:tensorflow:From C:\\Users\\Stasya\\Anaconda3\\lib\\site-packages\\keras\\backend\\tensorflow_backend.py:986: The name tf.assign_add is deprecated. Please use tf.compat.v1.assign_add instead.\n",
      "\n",
      "Epoch 1/20\n",
      "3458/3458 [==============================] - 5s 1ms/step - loss: 8.0590 - acc: 0.5000\n",
      "Epoch 2/20\n",
      "3458/3458 [==============================] - 0s 80us/step - loss: 8.0590 - acc: 0.5000\n",
      "Epoch 3/20\n",
      "3458/3458 [==============================] - 0s 84us/step - loss: 8.0590 - acc: 0.5000\n",
      "Epoch 4/20\n",
      "3458/3458 [==============================] - 0s 87us/step - loss: 8.0590 - acc: 0.5000\n",
      "Epoch 5/20\n",
      "3458/3458 [==============================] - 0s 75us/step - loss: 8.0590 - acc: 0.5000\n",
      "Epoch 6/20\n",
      "3458/3458 [==============================] - 0s 72us/step - loss: 8.0590 - acc: 0.5000\n",
      "Epoch 7/20\n",
      "3458/3458 [==============================] - 0s 73us/step - loss: 8.0590 - acc: 0.5000\n",
      "Epoch 8/20\n",
      "3458/3458 [==============================] - 0s 77us/step - loss: 8.0590 - acc: 0.5000\n",
      "Epoch 9/20\n",
      "3458/3458 [==============================] - 0s 86us/step - loss: 8.0590 - acc: 0.5000\n",
      "Epoch 10/20\n",
      "3458/3458 [==============================] - 0s 83us/step - loss: 8.0590 - acc: 0.5000\n",
      "Epoch 11/20\n",
      "3458/3458 [==============================] - 0s 81us/step - loss: 8.0590 - acc: 0.5000\n",
      "Epoch 12/20\n",
      "3458/3458 [==============================] - 0s 87us/step - loss: 8.0590 - acc: 0.5000\n",
      "Epoch 13/20\n",
      "3458/3458 [==============================] - 0s 86us/step - loss: 8.0590 - acc: 0.5000\n",
      "Epoch 14/20\n",
      "3458/3458 [==============================] - 0s 76us/step - loss: 8.0590 - acc: 0.5000\n",
      "Epoch 15/20\n",
      "3458/3458 [==============================] - 0s 72us/step - loss: 8.0590 - acc: 0.5000\n",
      "Epoch 16/20\n",
      "3458/3458 [==============================] - 0s 78us/step - loss: 8.0590 - acc: 0.5000\n",
      "Epoch 17/20\n",
      "3458/3458 [==============================] - 0s 80us/step - loss: 8.0590 - acc: 0.5000\n",
      "Epoch 18/20\n",
      "3458/3458 [==============================] - 0s 73us/step - loss: 8.0590 - acc: 0.5000\n",
      "Epoch 19/20\n",
      "3458/3458 [==============================] - 0s 74us/step - loss: 8.0590 - acc: 0.5000\n",
      "Epoch 20/20\n",
      "3458/3458 [==============================] - 0s 76us/step - loss: 8.0590 - acc: 0.5000\n"
     ]
    },
    {
     "data": {
      "text/plain": [
       "<keras.callbacks.History at 0x1f396ae04a8>"
      ]
     },
     "execution_count": 19,
     "metadata": {},
     "output_type": "execute_result"
    }
   ],
   "source": [
    "# train the model - it produces poor result stucking in local minima\n",
    "model.fit(X_train_new, y_train, epochs=20)"
   ]
  },
  {
   "cell_type": "code",
   "execution_count": 20,
   "metadata": {},
   "outputs": [
    {
     "name": "stdout",
     "output_type": "stream",
     "text": [
      "WARNING:tensorflow:From C:\\Users\\Stasya\\Anaconda3\\lib\\site-packages\\keras\\backend\\tensorflow_backend.py:3445: calling dropout (from tensorflow.python.ops.nn_ops) with keep_prob is deprecated and will be removed in a future version.\n",
      "Instructions for updating:\n",
      "Please use `rate` instead of `keep_prob`. Rate should be set to `rate = 1 - keep_prob`.\n"
     ]
    }
   ],
   "source": [
    "#Build model with dropout \n",
    "model = Sequential()\n",
    "model.add(Dense(15, activation='relu', input_dim=4))#input_dim=4 beause I removed 1 column\n",
    "model.add(Dropout(0.2,seed=2))\n",
    "model.add(Dense(20, activation='relu'))\n",
    "model.add(Dense(2, activation='softmax'))\n",
    "\n",
    "# Compile the model\n",
    "model.compile(optimizer=WAME(), \n",
    "              loss='categorical_crossentropy', \n",
    "              metrics=['accuracy'])"
   ]
  },
  {
   "cell_type": "code",
   "execution_count": 21,
   "metadata": {},
   "outputs": [
    {
     "name": "stdout",
     "output_type": "stream",
     "text": [
      "Train on 2420 samples, validate on 1038 samples\n",
      "Epoch 1/20\n",
      "2420/2420 [==============================] - 2s 795us/step - loss: 3.8787 - acc: 0.7455 - val_loss: 2.7630 - val_acc: 0.8256\n",
      "Epoch 2/20\n",
      "2420/2420 [==============================] - 0s 106us/step - loss: 1.4684 - acc: 0.9041 - val_loss: 4.4600 - val_acc: 0.7158\n",
      "Epoch 3/20\n",
      "2420/2420 [==============================] - 0s 108us/step - loss: 3.6070 - acc: 0.7748 - val_loss: 16.1181 - val_acc: 0.0000e+00\n",
      "Epoch 4/20\n",
      "2420/2420 [==============================] - 0s 90us/step - loss: 3.3947 - acc: 0.7872 - val_loss: 2.9037 - val_acc: 0.8198\n",
      "Epoch 5/20\n",
      "2420/2420 [==============================] - 0s 110us/step - loss: 1.2216 - acc: 0.9236 - val_loss: 14.4150 - val_acc: 0.1021\n",
      "Epoch 6/20\n",
      "2420/2420 [==============================] - 0s 104us/step - loss: 1.4624 - acc: 0.9079 - val_loss: 5.9673 - val_acc: 0.6262\n",
      "Epoch 7/20\n",
      "2420/2420 [==============================] - 0s 104us/step - loss: 1.3228 - acc: 0.9149 - val_loss: 8.0097 - val_acc: 0.5010\n",
      "Epoch 8/20\n",
      "2420/2420 [==============================] - 0s 103us/step - loss: 2.0229 - acc: 0.8723 - val_loss: 0.0776 - val_acc: 0.9952\n",
      "Epoch 9/20\n",
      "2420/2420 [==============================] - 0s 95us/step - loss: 1.1422 - acc: 0.9281 - val_loss: 2.5018 - val_acc: 0.8430\n",
      "Epoch 10/20\n",
      "2420/2420 [==============================] - 0s 107us/step - loss: 0.9334 - acc: 0.9405 - val_loss: 2.9659 - val_acc: 0.8160\n",
      "Epoch 11/20\n",
      "2420/2420 [==============================] - 0s 93us/step - loss: 0.8809 - acc: 0.9438 - val_loss: 2.7947 - val_acc: 0.8266\n",
      "Epoch 12/20\n",
      "2420/2420 [==============================] - 0s 111us/step - loss: 0.8204 - acc: 0.9483 - val_loss: 3.4413 - val_acc: 0.7823\n",
      "Epoch 13/20\n",
      "2420/2420 [==============================] - 0s 110us/step - loss: 1.0595 - acc: 0.9322 - val_loss: 7.2827 - val_acc: 0.5482\n",
      "Epoch 14/20\n",
      "2420/2420 [==============================] - 0s 109us/step - loss: 1.4190 - acc: 0.9095 - val_loss: 6.8992 - val_acc: 0.5694\n",
      "Epoch 15/20\n",
      "2420/2420 [==============================] - 0s 93us/step - loss: 0.8343 - acc: 0.9479 - val_loss: 3.0571 - val_acc: 0.8083\n",
      "Epoch 16/20\n",
      "2420/2420 [==============================] - 0s 117us/step - loss: 0.8442 - acc: 0.9467 - val_loss: 4.9979 - val_acc: 0.6879\n",
      "Epoch 17/20\n",
      "2420/2420 [==============================] - 0s 118us/step - loss: 0.8544 - acc: 0.9459 - val_loss: 5.9778 - val_acc: 0.6262\n",
      "Epoch 18/20\n",
      "2420/2420 [==============================] - 0s 117us/step - loss: 0.9327 - acc: 0.9409 - val_loss: 5.5798 - val_acc: 0.6522\n",
      "Epoch 19/20\n",
      "2420/2420 [==============================] - 0s 100us/step - loss: 0.8982 - acc: 0.9434 - val_loss: 4.7603 - val_acc: 0.7013\n",
      "Epoch 20/20\n",
      "2420/2420 [==============================] - 0s 109us/step - loss: 0.8101 - acc: 0.9492 - val_loss: 4.9973 - val_acc: 0.6879\n"
     ]
    }
   ],
   "source": [
    "# train the model - it performs much better\n",
    "model_info=model.fit(X_train_new, y_train, validation_split=0.3, epochs=20, batch_size=32)"
   ]
  },
  {
   "cell_type": "code",
   "execution_count": 22,
   "metadata": {},
   "outputs": [],
   "source": [
    "#Creating function to plot accuracy during the learning process\n",
    "#Code taken from https://github.com/parneetk/Neural-Networks-in-Keras/blob/master/01_neural_networks.ipynb\n",
    "import matplotlib.pyplot as plt\n",
    "\n",
    "def plot_model_history(model_history):\n",
    "    fig, axs = plt.subplots(1,2,figsize=(15,5))\n",
    "    # summarize history for accuracy\n",
    "    axs[0].plot(range(1,len(model_history.history['acc'])+1),model_history.history['acc'])\n",
    "    axs[0].plot(range(1,len(model_history.history['val_acc'])+1),model_history.history['val_acc'])\n",
    "    axs[0].set_title('Model Accuracy')\n",
    "    axs[0].set_ylabel('Accuracy')\n",
    "    axs[0].set_xlabel('Epoch')\n",
    "    axs[0].set_xticks(np.arange(1,len(model_history.history['acc'])+1),len(model_history.history['acc'])/10)\n",
    "    axs[0].legend(['train', 'val'], loc='best')\n",
    "    # summarize history for loss\n",
    "    axs[1].plot(range(1,len(model_history.history['loss'])+1),model_history.history['loss'])\n",
    "    axs[1].plot(range(1,len(model_history.history['val_loss'])+1),model_history.history['val_loss'])\n",
    "    axs[1].set_title('Model Loss')\n",
    "    axs[1].set_ylabel('Loss')\n",
    "    axs[1].set_xlabel('Epoch')\n",
    "    axs[1].set_xticks(np.arange(1,len(model_history.history['loss'])+1),len(model_history.history['loss'])/10)\n",
    "    axs[1].legend(['train', 'val'], loc='best')\n",
    "    plt.show()"
   ]
  },
  {
   "cell_type": "code",
   "execution_count": 23,
   "metadata": {},
   "outputs": [
    {
     "name": "stdout",
     "output_type": "stream",
     "text": [
      "[array([[-0.3081, -0.0339, -0.1345,  0.6762, -0.3645, -1.0954,  0.1262,\n",
      "        -0.0853, -0.5391, -0.2529, -0.3184, -0.1172,  0.0507,  0.1879,\n",
      "        -0.9129],\n",
      "       [ 0.2675, -0.0259,  0.4774,  0.7369,  0.4614, -0.6265,  0.4685,\n",
      "        -0.4569, -0.5139, -0.3168, -0.4155, -0.5539,  0.0919,  0.3501,\n",
      "        -0.8066],\n",
      "       [-0.5469,  0.4359, -0.3839, -0.5311,  0.1855,  0.2155, -0.5836,\n",
      "         0.2254,  0.105 , -0.2257, -0.5116,  0.5516, -0.5577, -0.8266,\n",
      "         0.3231],\n",
      "       [-0.3406, -0.3936,  0.1393,  0.2294, -0.386 ,  0.0623,  0.2153,\n",
      "        -0.5468,  0.2742, -0.5176, -0.1062, -0.1224,  0.2447,  0.3157,\n",
      "         0.2579]], dtype=float32), array([ 0.    , -0.1218,  0.2567,  0.284 ,  0.    , -0.5856,  0.3451,\n",
      "        0.    , -0.3545,  0.    ,  0.    , -0.1825,  0.2862,  0.1356,\n",
      "       -0.4655], dtype=float32)]\n"
     ]
    }
   ],
   "source": [
    "#Obtain weights at the end of training process\n",
    "print(model.layers[0].get_weights())"
   ]
  },
  {
   "cell_type": "code",
   "execution_count": 24,
   "metadata": {},
   "outputs": [
    {
     "name": "stdout",
     "output_type": "stream",
     "text": [
      "Accuracy on test data: 0.9196998123827392% \n",
      " Error on test data: 0.08030018761726077\n"
     ]
    }
   ],
   "source": [
    "pred_test= model.predict(X_test_new)\n",
    "scores = model.evaluate(X_test_new, y_test, verbose=0)\n",
    "print('Accuracy on test data: {}% \\n Error on test data: {}'.format(scores[1], 1 - scores[1]))  "
   ]
  },
  {
   "cell_type": "code",
   "execution_count": 25,
   "metadata": {},
   "outputs": [],
   "source": [
    "#Function to work with binary output\n",
    "def convert(alist):\n",
    "    ind=[]\n",
    "    for i in alist:\n",
    "        if i[0]==1:\n",
    "            ind.append(0)\n",
    "        else:\n",
    "            ind.append(1)\n",
    "    return ind\n",
    "\n",
    "prediction=convert(pred_test)\n",
    "target=convert(y_test)"
   ]
  },
  {
   "cell_type": "code",
   "execution_count": 26,
   "metadata": {},
   "outputs": [
    {
     "name": "stdout",
     "output_type": "stream",
     "text": [
      "[[1639   54]\n",
      " [ 158  814]]\n"
     ]
    }
   ],
   "source": [
    "from sklearn.metrics import confusion_matrix\n",
    "\n",
    "matrix = confusion_matrix(target,prediction)\n",
    "print(matrix)"
   ]
  },
  {
   "cell_type": "code",
   "execution_count": 27,
   "metadata": {},
   "outputs": [
    {
     "name": "stdout",
     "output_type": "stream",
     "text": [
      "accuracy 0.9204502814258911\n",
      "recall 0.8374485596707819\n",
      "f1 0.8847826086956522\n"
     ]
    }
   ],
   "source": [
    "from sklearn.metrics import accuracy_score, recall_score, f1_score\n",
    "\n",
    "accuracy=accuracy_score(target,prediction)\n",
    "recall=recall_score(target,prediction)\n",
    "f1=f1_score(target,prediction)\n",
    "\n",
    "print('accuracy',accuracy)\n",
    "print('recall',recall)\n",
    "print('f1',f1)"
   ]
  },
  {
   "cell_type": "markdown",
   "metadata": {},
   "source": [
    " # 4.1. Choosing number of nodes in hidden layer "
   ]
  },
  {
   "cell_type": "code",
   "execution_count": 28,
   "metadata": {},
   "outputs": [],
   "source": [
    "#Create function to build a model depends on number of hidden layers\n",
    "from tensorflow import set_random_seed\n",
    "\n",
    "def ANN(hidden):\n",
    "    set_random_seed(2)\n",
    "    model = Sequential()\n",
    "    model.add(Dense(15, activation='relu', input_dim=4))\n",
    "    model.add(Dropout(0.2,seed=2))\n",
    "    model.add(Dense(hidden, activation='relu')) #here the value of hidden layers can be changed\n",
    "    model.add(Dense(2, activation='softmax'))\n",
    "    # Compile the model\n",
    "    model.compile(optimizer=WAME(), \n",
    "              loss='categorical_crossentropy', \n",
    "              metrics=['accuracy'])\n",
    "    return model"
   ]
  },
  {
   "cell_type": "code",
   "execution_count": 29,
   "metadata": {},
   "outputs": [],
   "source": [
    "def trainpredict(model): #function to train certain model and make prediction \n",
    "    model.fit(X_train_new, y_train, epochs=20,verbose=0,batch_size=32)\n",
    "    pred_test= model.predict(X_test_new)\n",
    "    scores = model.evaluate(X_test_new, y_test, verbose=0)\n",
    "    return scores[1]\n",
    "\n",
    "def run_model(hidden_nodes):#function to run ANN with different number of hidden nodes\n",
    "    arch={} #Create dictionary to store results of model`s performance\n",
    "    for i in hidden_nodes:\n",
    "        model=ANN(i)\n",
    "        mod_results=[]\n",
    "        for j in range(10):\n",
    "            res=trainpredict(model)\n",
    "            mod_results.append(round(res,4))\n",
    "        arch[i]=mod_results\n",
    "    return arch"
   ]
  },
  {
   "cell_type": "code",
   "execution_count": 30,
   "metadata": {},
   "outputs": [],
   "source": [
    "#Run model for various numbers of hidden nodes\n",
    "mod_5_10_15_20_25=run_model([5,10,15,20,25])"
   ]
  },
  {
   "cell_type": "code",
   "execution_count": 31,
   "metadata": {},
   "outputs": [
    {
     "name": "stdout",
     "output_type": "stream",
     "text": [
      "{5: [0.9786, 0.9782, 0.9782, 0.9782, 0.9764, 0.9707, 0.9786, 0.9786, 0.9782, 0.9786], 10: [0.9704, 0.9722, 0.9779, 0.9786, 0.9782, 0.979, 0.9786, 0.9782, 0.9782, 0.9786], 15: [0.9756, 0.9782, 0.9771, 0.9711, 0.9779, 0.9756, 0.9779, 0.9779, 0.976, 0.9764], 20: [0.9782, 0.9711, 0.9704, 0.9782, 0.979, 0.9786, 0.979, 0.9782, 0.9786, 0.9786], 25: [0.9707, 0.9782, 0.9782, 0.9741, 0.9782, 0.9737, 0.9786, 0.9782, 0.9786, 0.9786]}\n"
     ]
    }
   ],
   "source": [
    "print(mod_5_10_15_20_25)"
   ]
  },
  {
   "cell_type": "code",
   "execution_count": 32,
   "metadata": {},
   "outputs": [
    {
     "data": {
      "image/png": "[encoded data removed]",
      "text/plain": [
       "<Figure size 504x504 with 1 Axes>"
      ]
     },
     "metadata": {
      "needs_background": "light"
     },
     "output_type": "display_data"
    }
   ],
   "source": [
    "import matplotlib.pyplot as plt\n",
    "\n",
    "df = pd.DataFrame(mod_5_10_15_20_25)\n",
    "plt.figure(figsize=(7,7))\n",
    "plt.xlabel('Number of hidden layers',fontsize=12)\n",
    "plt.ylabel('Accuracy',fontsize=12)\n",
    "plt.title('Model accuracy depends on number of hidden layers',fontsize=12)\n",
    "boxplot = df.boxplot(grid=False, fontsize=12) "
   ]
  },
  {
   "cell_type": "markdown",
   "metadata": {},
   "source": [
    " # 4.2. Evaluating model on test dataset 1 "
   ]
  },
  {
   "cell_type": "code",
   "execution_count": 33,
   "metadata": {},
   "outputs": [],
   "source": [
    "#Model structure 15-20-2\n",
    "from sklearn.metrics import accuracy_score, precision_score, recall_score, f1_score\n",
    "\n",
    "final_model=ANN(20)\n",
    "epochs=[20,30,40,50,60,70,80,90,100,110,120,130,140]\n",
    "\n",
    "def evaluation(model, X_test, y_test, epochs): #function to train certain model and make prediction \n",
    "    model_info=model.fit(X_train_new, y_train, epochs=epochs,validation_split=0.3, verbose=0, batch_size=32)\n",
    "    pred_test= model.predict(X_test)\n",
    "    prediction=convert(pred_test)\n",
    "    target=convert(y_test)\n",
    "    accuracy=accuracy_score(target,prediction)\n",
    "    precision = precision_score(target,prediction)\n",
    "    recall=recall_score(target,prediction)\n",
    "    f1=f1_score(target,prediction)\n",
    "    return accuracy, precision, recall, f1, model_info # function returns 4 main metrics, as well as saved model"
   ]
  },
  {
   "cell_type": "code",
   "execution_count": 34,
   "metadata": {},
   "outputs": [],
   "source": [
    "mod_evaluation_1=[] #make list to store results\n",
    "for i in epochs:\n",
    "    res=evaluation(final_model, X_test_new, y_test,i)\n",
    "    mod_evaluation_1.append(res) #append tuple with results to a list"
   ]
  },
  {
   "cell_type": "code",
   "execution_count": 35,
   "metadata": {},
   "outputs": [
    {
     "name": "stdout",
     "output_type": "stream",
     "text": [
      "accuracy [0.9159474671669794, 0.9789868667917448, 0.9789868667917448, 0.9789868667917448, 0.9789868667917448, 0.9789868667917448, 0.9767354596622889, 0.9774859287054409, 0.9786116322701689, 0.9786116322701689, 0.9782363977485928, 0.9771106941838649, 0.9774859287054409]\n",
      "precision [0.9369158878504673, 0.9455252918287937, 0.9455252918287937, 0.9455252918287937, 0.9455252918287937, 0.9455252918287937, 0.9408914728682171, 0.9453125, 0.9463414634146341, 0.9454722492697176, 0.9462890625, 0.9461312438785504, 0.9461839530332681]\n",
      "recall [0.8251028806584362, 1.0, 1.0, 1.0, 1.0, 1.0, 0.9989711934156379, 0.9958847736625515, 0.9979423868312757, 0.9989711934156379, 0.9969135802469136, 0.9938271604938271, 0.9948559670781894]\n",
      "f1 [0.8774617067833699, 0.972, 0.972, 0.972, 0.972, 0.972, 0.9690618762475051, 0.969939879759519, 0.971457185778668, 0.9714857428714357, 0.9709418837675351, 0.9693928750627194, 0.9699097291875627]\n"
     ]
    }
   ],
   "source": [
    "accuracy_1=[]\n",
    "precision_1=[]\n",
    "recall_1=[]\n",
    "f1_1=[]\n",
    "for item in mod_evaluation_1:\n",
    "    accuracy_1.append(item[0])\n",
    "    precision_1.append(item[1])\n",
    "    recall_1.append(item[2])\n",
    "    f1_1.append(item[3])\n",
    "\n",
    "print('accuracy',accuracy_1)\n",
    "print('precision',precision_1)\n",
    "print('recall',recall_1)\n",
    "print('f1',f1_1)"
   ]
  },
  {
   "cell_type": "code",
   "execution_count": 36,
   "metadata": {},
   "outputs": [
    {
     "data": {
      "image/png": "[encoded data removed]",
      "text/plain": [
       "<Figure size 432x288 with 1 Axes>"
      ]
     },
     "metadata": {},
     "output_type": "display_data"
    }
   ],
   "source": [
    "import matplotlib.pyplot as plt\n",
    "import seaborn as sns\n",
    "\n",
    "sns.set_style(\"darkgrid\")\n",
    "axes = plt.gca()\n",
    "axes.set_xlim([20,110])\n",
    "plt.xlabel('Number of epochs')\n",
    "plt.ylabel('Evaluation measure')\n",
    "plt.title('Model evaluation for testdata1')\n",
    "plt.plot(epochs,accuracy_1)\n",
    "plt.plot(epochs,precision_1)\n",
    "plt.plot(epochs,recall_1)\n",
    "plt.plot(epochs,f1_1)\n",
    "plt.legend(['accuracy','precision','recall','f1'], loc='best')\n",
    "plt.show()"
   ]
  },
  {
   "cell_type": "code",
   "execution_count": 37,
   "metadata": {},
   "outputs": [],
   "source": [
    "#Take best model for 110 epochs\n",
    "best_mod1=mod_evaluation_1[8][4]"
   ]
  },
  {
   "cell_type": "code",
   "execution_count": 38,
   "metadata": {},
   "outputs": [
    {
     "data": {
      "image/png": "[encoded data removed]",
      "text/plain": [
       "<Figure size 1080x360 with 2 Axes>"
      ]
     },
     "metadata": {},
     "output_type": "display_data"
    }
   ],
   "source": [
    "plot_model_history(best_mod1)"
   ]
  },
  {
   "cell_type": "markdown",
   "metadata": {},
   "source": [
    " # 4.3. Evaluating model on test dataset 2"
   ]
  },
  {
   "cell_type": "code",
   "execution_count": 39,
   "metadata": {},
   "outputs": [],
   "source": [
    "#Read second test dataset\n",
    "filename3 = 'datatest2.txt'\n",
    "data3 = pd.read_csv(filename3)\n",
    "data3['Occupancy'].value_counts() \n",
    "X_test_1=data3[data3.columns[1:-1]]\n",
    "y_test_1=data3['Occupancy']\n",
    "X_test_new1=X_test_1.iloc[:,[0,1,2,3]]"
   ]
  },
  {
   "cell_type": "code",
   "execution_count": 40,
   "metadata": {},
   "outputs": [
    {
     "data": {
      "text/plain": [
       "0    7703\n",
       "1    2049\n",
       "Name: Occupancy, dtype: int64"
      ]
     },
     "execution_count": 40,
     "metadata": {},
     "output_type": "execute_result"
    }
   ],
   "source": [
    "#This dataset is also unbalanced\n",
    "data3['Occupancy'].value_counts()"
   ]
  },
  {
   "cell_type": "code",
   "execution_count": 41,
   "metadata": {},
   "outputs": [],
   "source": [
    "y_test_1 = to_categorical(y_test_1)"
   ]
  },
  {
   "cell_type": "code",
   "execution_count": 42,
   "metadata": {},
   "outputs": [],
   "source": [
    "mod_evaluation_2=[] #make list to store results\n",
    "for i in epochs:\n",
    "    res=evaluation(final_model, X_test_new1, y_test_1, i)\n",
    "    mod_evaluation_2.append(res) #append tuple with results to a list"
   ]
  },
  {
   "cell_type": "code",
   "execution_count": 43,
   "metadata": {},
   "outputs": [
    {
     "name": "stdout",
     "output_type": "stream",
     "text": [
      "accuracy [0.9914889253486464, 0.9771328958162429, 0.9746718621821165, 0.9806193601312552, 0.9723133716160788, 0.9748769483182936, 0.9859515996718622, 0.985746513535685, 0.9830803937653815, 0.9764150943396226, 0.9754922067268252, 0.9877973748974569, 0.9762100082034455]\n",
      "precision [0.9658767772511848, 0.9199632014719411, 0.9065884476534296, 0.918918918918919, 0.8990578734858681, 0.9088848594741614, 0.9672531769305963, 0.9640427599611273, 0.9644970414201184, 0.9572649572649573, 0.9693983402489627, 0.9670861568247822, 0.9699948266942576]\n",
      "recall [0.9946315275744265, 0.9760858955588092, 0.9804782820888238, 0.9956076134699854, 0.9780380673499268, 0.9785261102977062, 0.9658369936554417, 0.9682772083943387, 0.9546120058565154, 0.9292337725719864, 0.9121522693997072, 0.9751098096632503, 0.9150805270863837]\n",
      "f1 [0.9800432796345275, 0.9471939379587971, 0.9420867526377491, 0.9557273366127899, 0.9368863955119215, 0.9424206815511162, 0.9665445665445666, 0.9661553445337229, 0.9595290654893304, 0.9430411094601288, 0.9399044505908976, 0.9710814094775212, 0.9417378201908589]\n"
     ]
    }
   ],
   "source": [
    "accuracy_2=[]\n",
    "precision_2=[]\n",
    "recall_2=[]\n",
    "f1_2=[]\n",
    "for item in mod_evaluation_2:\n",
    "    accuracy_2.append(item[0])\n",
    "    precision_2.append(item[1])\n",
    "    recall_2.append(item[2])\n",
    "    f1_2.append(item[3])\n",
    "\n",
    "print('accuracy',accuracy_2)\n",
    "print('precision',precision_2)\n",
    "print('recall',recall_2)\n",
    "print('f1',f1_2)"
   ]
  },
  {
   "cell_type": "code",
   "execution_count": 45,
   "metadata": {},
   "outputs": [
    {
     "data": {
      "image/png": "[encoded data removed]",
      "text/plain": [
       "<Figure size 432x288 with 1 Axes>"
      ]
     },
     "metadata": {},
     "output_type": "display_data"
    }
   ],
   "source": [
    "import matplotlib.pyplot as plt\n",
    "import seaborn as sns\n",
    "\n",
    "sns.set_style(\"darkgrid\")\n",
    "axes = plt.gca()\n",
    "axes.set_xlim([20,130])\n",
    "plt.xlabel('Number of epochs')\n",
    "plt.ylabel('Evaluation measure')\n",
    "plt.title('Model evaluation for testdata2')\n",
    "plt.plot(epochs,accuracy_2)\n",
    "plt.plot(epochs,precision_2)\n",
    "plt.plot(epochs,recall_2)\n",
    "plt.plot(epochs,f1_2)\n",
    "plt.legend(['accuracy','precision','recall','f1'], loc='best')\n",
    "plt.show()"
   ]
  },
  {
   "cell_type": "code",
   "execution_count": 46,
   "metadata": {},
   "outputs": [],
   "source": [
    "#Take best model for 130 epochs\n",
    "best_mod2=mod_evaluation_2[11][4]"
   ]
  },
  {
   "cell_type": "code",
   "execution_count": 47,
   "metadata": {},
   "outputs": [
    {
     "data": {
      "image/png": "[encoded data removed]",
      "text/plain": [
       "<Figure size 1080x360 with 2 Axes>"
      ]
     },
     "metadata": {},
     "output_type": "display_data"
    }
   ],
   "source": [
    "plot_model_history(best_mod2)"
   ]
  }
 ],
 "metadata": {
  "kernelspec": {
   "display_name": "Python 3",
   "language": "python",
   "name": "python3"
  },
  "language_info": {
   "codemirror_mode": {
    "name": "ipython",
    "version": 3
   },
   "file_extension": ".py",
   "mimetype": "text/x-python",
   "name": "python",
   "nbconvert_exporter": "python",
   "pygments_lexer": "ipython3",
   "version": "3.7.3"
  }
 },
 "nbformat": 4,
 "nbformat_minor": 2
}
